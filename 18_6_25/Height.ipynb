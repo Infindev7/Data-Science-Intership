{
 "cells": [
  {
   "cell_type": "code",
   "execution_count": 1,
   "id": "d33cfa2b",
   "metadata": {},
   "outputs": [],
   "source": [
    "import pandas as pd"
   ]
  },
  {
   "cell_type": "code",
   "execution_count": 12,
   "id": "75ef12d7",
   "metadata": {},
   "outputs": [],
   "source": [
    "df =  pd.read_csv('HeightWeight.csv')"
   ]
  },
  {
   "cell_type": "code",
   "execution_count": 13,
   "id": "5ddf5e20",
   "metadata": {},
   "outputs": [
    {
     "data": {
      "text/html": [
       "<div>\n",
       "<style scoped>\n",
       "    .dataframe tbody tr th:only-of-type {\n",
       "        vertical-align: middle;\n",
       "    }\n",
       "\n",
       "    .dataframe tbody tr th {\n",
       "        vertical-align: top;\n",
       "    }\n",
       "\n",
       "    .dataframe thead th {\n",
       "        text-align: right;\n",
       "    }\n",
       "</style>\n",
       "<table border=\"1\" class=\"dataframe\">\n",
       "  <thead>\n",
       "    <tr style=\"text-align: right;\">\n",
       "      <th></th>\n",
       "      <th>Index</th>\n",
       "      <th>Height</th>\n",
       "      <th>Weight</th>\n",
       "    </tr>\n",
       "  </thead>\n",
       "  <tbody>\n",
       "    <tr>\n",
       "      <th>0</th>\n",
       "      <td>1</td>\n",
       "      <td>65.78331</td>\n",
       "      <td>112.9925</td>\n",
       "    </tr>\n",
       "    <tr>\n",
       "      <th>1</th>\n",
       "      <td>2</td>\n",
       "      <td>71.51521</td>\n",
       "      <td>136.4873</td>\n",
       "    </tr>\n",
       "    <tr>\n",
       "      <th>2</th>\n",
       "      <td>3</td>\n",
       "      <td>69.39874</td>\n",
       "      <td>153.0269</td>\n",
       "    </tr>\n",
       "    <tr>\n",
       "      <th>3</th>\n",
       "      <td>4</td>\n",
       "      <td>68.21660</td>\n",
       "      <td>142.3354</td>\n",
       "    </tr>\n",
       "    <tr>\n",
       "      <th>4</th>\n",
       "      <td>5</td>\n",
       "      <td>67.78781</td>\n",
       "      <td>144.2971</td>\n",
       "    </tr>\n",
       "  </tbody>\n",
       "</table>\n",
       "</div>"
      ],
      "text/plain": [
       "   Index    Height    Weight\n",
       "0      1  65.78331  112.9925\n",
       "1      2  71.51521  136.4873\n",
       "2      3  69.39874  153.0269\n",
       "3      4  68.21660  142.3354\n",
       "4      5  67.78781  144.2971"
      ]
     },
     "execution_count": 13,
     "metadata": {},
     "output_type": "execute_result"
    }
   ],
   "source": [
    "df.head()"
   ]
  },
  {
   "cell_type": "code",
   "execution_count": 14,
   "id": "506e13d8",
   "metadata": {},
   "outputs": [],
   "source": [
    "df.drop(columns=['Index'], inplace=True)"
   ]
  },
  {
   "cell_type": "code",
   "execution_count": 15,
   "id": "cb8969ed",
   "metadata": {},
   "outputs": [
    {
     "data": {
      "text/html": [
       "<div>\n",
       "<style scoped>\n",
       "    .dataframe tbody tr th:only-of-type {\n",
       "        vertical-align: middle;\n",
       "    }\n",
       "\n",
       "    .dataframe tbody tr th {\n",
       "        vertical-align: top;\n",
       "    }\n",
       "\n",
       "    .dataframe thead th {\n",
       "        text-align: right;\n",
       "    }\n",
       "</style>\n",
       "<table border=\"1\" class=\"dataframe\">\n",
       "  <thead>\n",
       "    <tr style=\"text-align: right;\">\n",
       "      <th></th>\n",
       "      <th>Height</th>\n",
       "      <th>Weight</th>\n",
       "    </tr>\n",
       "  </thead>\n",
       "  <tbody>\n",
       "    <tr>\n",
       "      <th>0</th>\n",
       "      <td>65.78331</td>\n",
       "      <td>112.9925</td>\n",
       "    </tr>\n",
       "    <tr>\n",
       "      <th>1</th>\n",
       "      <td>71.51521</td>\n",
       "      <td>136.4873</td>\n",
       "    </tr>\n",
       "  </tbody>\n",
       "</table>\n",
       "</div>"
      ],
      "text/plain": [
       "     Height    Weight\n",
       "0  65.78331  112.9925\n",
       "1  71.51521  136.4873"
      ]
     },
     "execution_count": 15,
     "metadata": {},
     "output_type": "execute_result"
    }
   ],
   "source": [
    "df.head(2)"
   ]
  },
  {
   "cell_type": "code",
   "execution_count": 37,
   "id": "c202e91d",
   "metadata": {},
   "outputs": [],
   "source": [
    "x_mean = df['Height'].mean()"
   ]
  },
  {
   "cell_type": "code",
   "execution_count": 36,
   "id": "4b54f0e2",
   "metadata": {},
   "outputs": [
    {
     "name": "stdout",
     "output_type": "stream",
     "text": [
      "Mean Height: 67.99311359679999, Mean Weight: 127.07942116080001\n"
     ]
    }
   ],
   "source": [
    "y_mean = df['Weight'].mean()\n",
    "print(f\"Mean Height: {x_mean}, Mean Weight: {y_mean}\")"
   ]
  },
  {
   "cell_type": "code",
   "execution_count": 38,
   "id": "e6229f40",
   "metadata": {},
   "outputs": [
    {
     "name": "stdout",
     "output_type": "stream",
     "text": [
      "Sum of deviations in Height: 3.3875835470098536e-10\n"
     ]
    }
   ],
   "source": [
    "x_devt = df['Height'] - x_mean\n",
    "x_dev = x_devt.sum()\n",
    "print(f\"Sum of deviations in Height: {x_dev}\")"
   ]
  },
  {
   "cell_type": "code",
   "execution_count": 39,
   "id": "41a9903b",
   "metadata": {},
   "outputs": [
    {
     "name": "stdout",
     "output_type": "stream",
     "text": [
      "Sum of deviations in Weight: -2.423945488772006e-10\n"
     ]
    }
   ],
   "source": [
    "y_devt = df['Weight'] - y_mean\n",
    "y_dev = y_devt.sum()\n",
    "print(f\"Sum of deviations in Weight: {y_dev}\")"
   ]
  },
  {
   "cell_type": "code",
   "execution_count": 40,
   "id": "05f5d5e6",
   "metadata": {},
   "outputs": [
    {
     "name": "stdout",
     "output_type": "stream",
     "text": [
      "Sum of squared deviations in Height: 90405.93733920317\n"
     ]
    }
   ],
   "source": [
    "x_dev_sq_t = (df['Height'] - x_mean) ** 2\n",
    "x_dev_sq = x_dev_sq_t.sum()\n",
    "print(f\"Sum of squared deviations in Height: {x_dev_sq}\")"
   ]
  },
  {
   "cell_type": "code",
   "execution_count": 33,
   "id": "7d84b32e",
   "metadata": {},
   "outputs": [
    {
     "name": "stdout",
     "output_type": "stream",
     "text": [
      "Covariance: 3.0834764454029657\n"
     ]
    }
   ],
   "source": [
    "x_dev_y_dev_t = (df['Height'] - x_mean)*(df['Weight'] - y_mean)\n",
    "x_dev_y_dev = x_dev_y_dev_t.sum()\n",
    "print(f'Covariance: {x_dev_y_dev / x_dev_sq}')"
   ]
  },
  {
   "cell_type": "code",
   "execution_count": 32,
   "id": "35857af6",
   "metadata": {},
   "outputs": [
    {
     "name": "stdout",
     "output_type": "stream",
     "text": [
      "Beta1: 3.0834764454029657\n"
     ]
    }
   ],
   "source": [
    "beta1 = x_dev_y_dev / x_dev_sq\n",
    "print(f'Beta1: {beta1}')"
   ]
  },
  {
   "cell_type": "code",
   "execution_count": 42,
   "id": "fc0ef5e2",
   "metadata": {},
   "outputs": [
    {
     "name": "stdout",
     "output_type": "stream",
     "text": [
      "Beta0: -82.57574306454087\n"
     ]
    }
   ],
   "source": [
    "beta0 = y_mean - beta1 * x_mean\n",
    "print(f'Beta0: {beta0}')"
   ]
  },
  {
   "cell_type": "code",
   "execution_count": 43,
   "id": "436ca8dd",
   "metadata": {},
   "outputs": [],
   "source": [
    "y = beta0 + beta1 * df['Height']"
   ]
  },
  {
   "cell_type": "code",
   "execution_count": 44,
   "id": "712e1d80",
   "metadata": {},
   "outputs": [],
   "source": [
    "df['Predicted Weight'] = y"
   ]
  },
  {
   "cell_type": "code",
   "execution_count": 45,
   "id": "6d3d9557",
   "metadata": {},
   "outputs": [
    {
     "data": {
      "text/html": [
       "<div>\n",
       "<style scoped>\n",
       "    .dataframe tbody tr th:only-of-type {\n",
       "        vertical-align: middle;\n",
       "    }\n",
       "\n",
       "    .dataframe tbody tr th {\n",
       "        vertical-align: top;\n",
       "    }\n",
       "\n",
       "    .dataframe thead th {\n",
       "        text-align: right;\n",
       "    }\n",
       "</style>\n",
       "<table border=\"1\" class=\"dataframe\">\n",
       "  <thead>\n",
       "    <tr style=\"text-align: right;\">\n",
       "      <th></th>\n",
       "      <th>Height</th>\n",
       "      <th>Weight</th>\n",
       "      <th>Predicted Weight</th>\n",
       "    </tr>\n",
       "  </thead>\n",
       "  <tbody>\n",
       "    <tr>\n",
       "      <th>0</th>\n",
       "      <td>65.78331</td>\n",
       "      <td>112.9925</td>\n",
       "      <td>120.265544</td>\n",
       "    </tr>\n",
       "    <tr>\n",
       "      <th>1</th>\n",
       "      <td>71.51521</td>\n",
       "      <td>136.4873</td>\n",
       "      <td>137.939722</td>\n",
       "    </tr>\n",
       "    <tr>\n",
       "      <th>2</th>\n",
       "      <td>69.39874</td>\n",
       "      <td>153.0269</td>\n",
       "      <td>131.413637</td>\n",
       "    </tr>\n",
       "    <tr>\n",
       "      <th>3</th>\n",
       "      <td>68.21660</td>\n",
       "      <td>142.3354</td>\n",
       "      <td>127.768536</td>\n",
       "    </tr>\n",
       "    <tr>\n",
       "      <th>4</th>\n",
       "      <td>67.78781</td>\n",
       "      <td>144.2971</td>\n",
       "      <td>126.446372</td>\n",
       "    </tr>\n",
       "  </tbody>\n",
       "</table>\n",
       "</div>"
      ],
      "text/plain": [
       "     Height    Weight  Predicted Weight\n",
       "0  65.78331  112.9925        120.265544\n",
       "1  71.51521  136.4873        137.939722\n",
       "2  69.39874  153.0269        131.413637\n",
       "3  68.21660  142.3354        127.768536\n",
       "4  67.78781  144.2971        126.446372"
      ]
     },
     "execution_count": 45,
     "metadata": {},
     "output_type": "execute_result"
    }
   ],
   "source": [
    "df.head()"
   ]
  },
  {
   "cell_type": "code",
   "execution_count": null,
   "id": "6f2fe819",
   "metadata": {},
   "outputs": [],
   "source": [
    "x = int(input('Enter Height: '))\n",
    "y = beta0 + beta1 * x\n",
    "print('Corresponding Height:', y)"
   ]
  }
 ],
 "metadata": {
  "kernelspec": {
   "display_name": "Python 3",
   "language": "python",
   "name": "python3"
  },
  "language_info": {
   "codemirror_mode": {
    "name": "ipython",
    "version": 3
   },
   "file_extension": ".py",
   "mimetype": "text/x-python",
   "name": "python",
   "nbconvert_exporter": "python",
   "pygments_lexer": "ipython3",
   "version": "3.13.2"
  }
 },
 "nbformat": 4,
 "nbformat_minor": 5
}
